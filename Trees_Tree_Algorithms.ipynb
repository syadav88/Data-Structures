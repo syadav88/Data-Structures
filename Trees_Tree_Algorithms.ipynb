{
 "cells": [
  {
   "cell_type": "code",
   "execution_count": 2,
   "metadata": {
    "collapsed": false
   },
   "outputs": [
    {
     "name": "stdout",
     "output_type": "stream",
     "text": [
      "['a', ['b', ['d', [], []], ['e', [], []]], ['c', ['f', [], []], []]]\n",
      "('left subtree = ', ['b', ['d', [], []], ['e', [], []]])\n",
      "('root = ', 'a')\n",
      "('right subtree = ', ['c', ['f', [], []], []])\n"
     ]
    }
   ],
   "source": [
    "my_tree = ['a', ['b', ['d',[],[]], ['e',[],[]] ], ['c',\n",
    "   ['f',[],[]], []] ]\n",
    "print(my_tree)\n",
    "print('left subtree = ', my_tree[1])\n",
    "print('root = ', my_tree[0])\n",
    "print('right subtree = ', my_tree[2])"
   ]
  },
  {
   "cell_type": "code",
   "execution_count": 3,
   "metadata": {
    "collapsed": true
   },
   "outputs": [],
   "source": [
    "def binary_tree(r):\n",
    "   return [r, [], []]"
   ]
  },
  {
   "cell_type": "code",
   "execution_count": 4,
   "metadata": {
    "collapsed": true
   },
   "outputs": [],
   "source": [
    "def insert_left(root, new_branch):\n",
    "    t = root.pop(1)\n",
    "    if len(t) > 1:\n",
    "        root.insert(1, [new_branch, t, []])\n",
    "    else:\n",
    "        root.insert(1, [new_branch, [], []])\n",
    "    return root"
   ]
  },
  {
   "cell_type": "code",
   "execution_count": 5,
   "metadata": {
    "collapsed": true
   },
   "outputs": [],
   "source": [
    "def insert_right(root, new_branch):\n",
    "    t = root.pop(2)\n",
    "    if len(t) > 1:\n",
    "        root.insert(2, [new_branch, [], t])\n",
    "    else:\n",
    "        root.insert(2, [new_branch, [], []])\n",
    "    return root"
   ]
  },
  {
   "cell_type": "code",
   "execution_count": 6,
   "metadata": {
    "collapsed": true
   },
   "outputs": [],
   "source": [
    "def get_root_val(root):\n",
    "    return root[0]\n",
    "def set_root_val(root,new_val):\n",
    "    root[0] = new_val\n",
    "def get_left_child(root):\n",
    "    return root[1]\n",
    "def get_right_child(root):\n",
    "    return root[2]\n"
   ]
  },
  {
   "cell_type": "code",
   "execution_count": 7,
   "metadata": {
    "collapsed": false
   },
   "outputs": [
    {
     "name": "stdout",
     "output_type": "stream",
     "text": [
      "[5, [4, [], []], []]\n",
      "[3, [9, [4, [], []], []], [7, [], [6, [], []]]]\n",
      "[3, [9, [11, [4, [], []], []], []], [7, [], [6, [], []]]]\n",
      "[6, [], []]\n"
     ]
    }
   ],
   "source": [
    "r = binary_tree(3)\n",
    "insert_left(r, 4)\n",
    "insert_left(r, 5)\n",
    "insert_right(r, 6)\n",
    "insert_right(r, 7)\n",
    "l = get_left_child(r)\n",
    "print(l)\n",
    "set_root_val(l, 9)\n",
    "print(r)\n",
    "insert_left(l, 11)\n",
    "print(r)\n",
    "print(get_right_child(get_right_child(r)))"
   ]
  },
  {
   "cell_type": "code",
   "execution_count": 9,
   "metadata": {
    "collapsed": false
   },
   "outputs": [
    {
     "name": "stdout",
     "output_type": "stream",
     "text": [
      "a\n",
      "None\n",
      "<__main__.BinaryTree instance at 0x103e6b3b0>\n",
      "b\n",
      "<__main__.BinaryTree instance at 0x103e7b170>\n",
      "c\n",
      "hello\n"
     ]
    }
   ],
   "source": [
    "class BinaryTree:\n",
    "    def __init__(self, root):\n",
    "        self.key = root\n",
    "        self.left_child = None\n",
    "        self.right_child = None\n",
    "        \n",
    "    def insert_left(self,new_node):\n",
    "        if self.left_child == None:\n",
    "            self.left_child = BinaryTree(new_node)\n",
    "        else:\n",
    "            t = BinaryTree(new_node)\n",
    "            t.left_child = self.left_child\n",
    "            self.left_child = t\n",
    "            \n",
    "    def insert_right(self,new_node):\n",
    "        if self.right_child == None:\n",
    "            self.right_child = BinaryTree(new_node)\n",
    "        else:\n",
    "            t = BinaryTree(new_node)\n",
    "            t.right_child = self.right_child\n",
    "            self.right_child = t\n",
    "            \n",
    "    def get_right_child(self):\n",
    "        return self.right_child\n",
    "    \n",
    "    def get_left_child(self):\n",
    "        return self.left_child\n",
    "    \n",
    "    def set_root_val(self, obj):\n",
    "        self.key = obj\n",
    "        \n",
    "    def get_root_val(self):\n",
    "        return self.key\n",
    "    \n",
    "r = BinaryTree('a')\n",
    "print(r.get_root_val())\n",
    "print(r.get_left_child())\n",
    "r.insert_left('b')\n",
    "print(r.get_left_child())\n",
    "print(r.get_left_child().get_root_val())\n",
    "r.insert_right('c')\n",
    "print(r.get_right_child())\n",
    "print(r.get_right_child().get_root_val())\n",
    "r.get_right_child().set_root_val('hello')\n",
    "print(r.get_right_child().get_root_val())"
   ]
  },
  {
   "cell_type": "markdown",
   "metadata": {},
   "source": [
    "BinarySearchTree implementation\n"
   ]
  },
  {
   "cell_type": "code",
   "execution_count": 11,
   "metadata": {
    "collapsed": false
   },
   "outputs": [
    {
     "name": "stdout",
     "output_type": "stream",
     "text": [
      "yellow\n",
      "at\n"
     ]
    }
   ],
   "source": [
    "class TreeNode:\n",
    "    def __init__(self, key, val, left = None, right = None, parent = None):\n",
    "        self.key = key\n",
    "        self.payload = val\n",
    "        self.left_child = left\n",
    "        self.right_child = right\n",
    "        self.parent = parent\n",
    "    def has_left_child(self):\n",
    "        return self.left_child\n",
    "    def has_right_child(self):\n",
    "        return self.right_child\n",
    "    def is_left_child(self):\n",
    "        return self.parent and self.parent.left_child == self\n",
    "    def is_right_child(self):\n",
    "        return self.parent and self.parent.right_child == self\n",
    "    def is_root(self):\n",
    "        return not self.parent\n",
    "    def is_leaf(self):\n",
    "        return not (self.right_child or self.left_child)\n",
    "    def has_any_children(self):\n",
    "        return self.right_child or self.left_child\n",
    "    def has_both_children(self):\n",
    "        return self.right_child and self.left_child\n",
    "    def replace_node_data(self, key, value, lc, rc):\n",
    "        self.key = key\n",
    "        self.payload = value\n",
    "        self.left_child = lc\n",
    "        self.right_child = rc\n",
    "        if self.has_left_child():\n",
    "            self.left_child.parent = self\n",
    "        if self.has_right_child():\n",
    "            self.right_child.parent = self\n",
    "            \n",
    "            \n",
    "class BinarySearchTree:\n",
    "    def __init__(self):\n",
    "        self.root = None\n",
    "        self.size = 0\n",
    "    def length(self):\n",
    "        return self.size\n",
    "    def __len__(self):\n",
    "        return self.size\n",
    "    def put(self, key, val):\n",
    "        if self.root:\n",
    "            self._put(key, val, self.root)\n",
    "        else:\n",
    "            self.root = TreeNode(key,val)\n",
    "        self.size = self.size + 1\n",
    "    def _put(self, key, val, current_node):\n",
    "        if key < current_node.key:\n",
    "            if current_node.has_left_child():\n",
    "                self._put(key, val, current_node.left_child)\n",
    "            else:\n",
    "                current_node.left_child = TreeNode(key, val, parent = current_node)\n",
    "        else:\n",
    "            if current_node.has_right_child():\n",
    "                self._put(key, val, current_node.right_child)\n",
    "            else:\n",
    "                current_node.right_child = TreeNode(key, val, parent = current_node)\n",
    "    def __setitem__(self, k, v):\n",
    "        self.put(k, v)\n",
    "    def get(self, key):\n",
    "        if self.root:\n",
    "            res = self._get(key, self.root)\n",
    "        if res:\n",
    "            return res.payload\n",
    "        else:\n",
    "            return None\n",
    "        return None\n",
    "    def _get(self, key, current_node):\n",
    "        if not current_node:\n",
    "            return None\n",
    "        elif current_node.key == key:\n",
    "            return current_node\n",
    "        elif key < current_node.key:\n",
    "            return self._get(key, current_node.left_child)\n",
    "        else:\n",
    "            return self._get(key, current_node.right_child)\n",
    "    def __getitem__(self, key):\n",
    "        return self.get(key)\n",
    "    def __contains__(self, key):\n",
    "        if self._get(key, self.root):\n",
    "            return True\n",
    "        else:\n",
    "            return False\n",
    "    def delete(self, key):\n",
    "        if self.size > 1:\n",
    "            node_to_remove = self._get(key, self.root)\n",
    "            if node_to_remove:\n",
    "                self.remove(node_to_remove)\n",
    "                self.size = self.size - 1\n",
    "            else:\n",
    "                raise KeyError('Error, key not in tree')\n",
    "        elif self.size == 1 and self.root.key == key:\n",
    "            self.root = None\n",
    "            self.size = self.size - 1\n",
    "        else:\n",
    "            raise KeyError('Error, key not in tree')\n",
    "    def __delitem__(self, key):\n",
    "        self.delete(key)\n",
    "    def splice_out(self):\n",
    "        if self.is_leaf():\n",
    "            if self.is_left_child():\n",
    "                self.parent.left_child = None\n",
    "            else:\n",
    "                self.parent.right_child = None\n",
    "        elif self.has_any_children():\n",
    "            if self.has_left_child():\n",
    "                if self.is_left_child():\n",
    "                    self.parent.left_child = self.left_child\n",
    "                else:\n",
    "                    self.parent.right_child = self.left_child\n",
    "                self.left_child.parent = self.parent\n",
    "            else:\n",
    "                if self.is_left_child():\n",
    "                    self.parent.left_child = self.right_child\n",
    "                else:\n",
    "                    self.parent.right_child = self.right_child\n",
    "                self.right_child.parent = self.parent\n",
    "    def find_successor(self):\n",
    "        succ = None\n",
    "        if self.has_right_child():\n",
    "            succ = self.right_child.find_min()\n",
    "        else:\n",
    "            if self.parent:\n",
    "                if self.is_left_child():\n",
    "                    succ = self.parent\n",
    "                else:\n",
    "                    self.parent.right_child = None\n",
    "                    succ = self.parent.find_successor()\n",
    "                    self.parent.right_child = self\n",
    "        return succ\n",
    "    def find_min(self):\n",
    "        current = self\n",
    "        while current.has_left_child():\n",
    "            current = current.left_child\n",
    "        return current\n",
    "    def remove(self, current_node):\n",
    "        if current_node.is_leaf(): #leaf\n",
    "            if current_node == current_node.parent.left_child:\n",
    "                current_node.parent.left_child = None\n",
    "            else:\n",
    "                current_node.parent.right_child = None\n",
    "        elif current_node.has_both_children(): # interior\n",
    "            succ = current_node.find_successor()\n",
    "            succ.splice_out()\n",
    "            current_node.key = succ.key\n",
    "            current_node.payload = succ.payload\n",
    "\n",
    "        else: # this node has one child\n",
    "            if current_node.has_left_child():\n",
    "                if current_node.is_left_child():\n",
    "                    current_node.left_child.parent = current_node.parent\n",
    "                    current_node.parent.left_child = current_node.left_child\n",
    "                elif current_node.is_right_child():\n",
    "                    current_node.left_child.parent = current_node.parent\n",
    "                    current_node.parent.right_child = current_node.left_child\n",
    "                else:\n",
    "                    current_node.replace_node_data(current_node.left_child.key,current_node.left_child.payload,\n",
    "                           current_node.left_child.left_child,\n",
    "                           current_node.left_child.right_child)\n",
    "            else:\n",
    "                if current_node.is_left_child():\n",
    "                    current_node.right_child.parent = current_node.parent\n",
    "                    current_node.parent.left_child = current_node.right_child\n",
    "                elif current_node.is_right_child():\n",
    "                    current_node.right_child.parent = current_node.parent\n",
    "                    current_node.parent.right_child = current_node.right_child\n",
    "                else:\n",
    "                    current_node.replace_node_data(current_node.right_child.key,\n",
    "                           current_node.right_child.payload,\n",
    "                           current_node.right_child.left_child,\n",
    "                           current_node.right_child.right_child)\n",
    "my_tree = BinarySearchTree()\n",
    "my_tree[3] = \"red\"\n",
    "my_tree[4] = \"blue\"\n",
    "my_tree[6] = \"yellow\"\n",
    "my_tree[2] = \"at\"\n",
    "print(my_tree[6])\n",
    "print(my_tree[2])"
   ]
  },
  {
   "cell_type": "code",
   "execution_count": null,
   "metadata": {
    "collapsed": true
   },
   "outputs": [],
   "source": []
  }
 ],
 "metadata": {
  "anaconda-cloud": {},
  "kernelspec": {
   "display_name": "Python [Root]",
   "language": "python",
   "name": "Python [Root]"
  },
  "language_info": {
   "codemirror_mode": {
    "name": "ipython",
    "version": 2
   },
   "file_extension": ".py",
   "mimetype": "text/x-python",
   "name": "python",
   "nbconvert_exporter": "python",
   "pygments_lexer": "ipython2",
   "version": "2.7.12"
  }
 },
 "nbformat": 4,
 "nbformat_minor": 0
}
