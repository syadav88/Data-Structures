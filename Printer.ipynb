{
 "cells": [
  {
   "cell_type": "code",
   "execution_count": null,
   "metadata": {
    "collapsed": true
   },
   "outputs": [],
   "source": [
    "class Printer:\n",
    "    def __init__(self, ppm):\n",
    "        self.page_rate = ppm\n",
    "        self.current_task = None\n",
    "        self.time_remaining = 0\n",
    "        \n",
    "    def tick(self):\n",
    "        if self.current_task != None:\n",
    "            self.time_remaining = self.time_remaining - 1\n",
    "        if self.time_remaining <= 0:\n",
    "            self.current_task = None\n",
    "            \n",
    "    def busy(self):\n",
    "        if self.current_task != None:\n",
    "            return True\n",
    "        else:\n",
    "            return False\n",
    "        \n",
    "    def start_next(self,new_task):\n",
    "        self.current_task = new_task\n",
    "        self.time_remaining = new_task.get_pages() * 60 / self.page_rate"
   ]
  }
 ],
 "metadata": {
  "anaconda-cloud": {},
  "kernelspec": {
   "display_name": "Python [Root]",
   "language": "python",
   "name": "Python [Root]"
  },
  "language_info": {
   "codemirror_mode": {
    "name": "ipython",
    "version": 2
   },
   "file_extension": ".py",
   "mimetype": "text/x-python",
   "name": "python",
   "nbconvert_exporter": "python",
   "pygments_lexer": "ipython2",
   "version": "2.7.12"
  }
 },
 "nbformat": 4,
 "nbformat_minor": 0
}
